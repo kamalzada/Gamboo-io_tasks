{
 "cells": [
  {
   "cell_type": "code",
   "execution_count": 213,
   "id": "774bbe82",
   "metadata": {},
   "outputs": [],
   "source": [
    "%run Libraries.ipynb"
   ]
  },
  {
   "cell_type": "code",
   "execution_count": 214,
   "id": "69a7a5ce",
   "metadata": {},
   "outputs": [],
   "source": [
    "%run Utility_tools.ipynb "
   ]
  },
  {
   "cell_type": "code",
   "execution_count": 313,
   "id": "de72c011",
   "metadata": {},
   "outputs": [
    {
     "data": {
      "text/html": [
       "<div>\n",
       "<style scoped>\n",
       "    .dataframe tbody tr th:only-of-type {\n",
       "        vertical-align: middle;\n",
       "    }\n",
       "\n",
       "    .dataframe tbody tr th {\n",
       "        vertical-align: top;\n",
       "    }\n",
       "\n",
       "    .dataframe thead th {\n",
       "        text-align: right;\n",
       "    }\n",
       "</style>\n",
       "<table border=\"1\" class=\"dataframe\">\n",
       "  <thead>\n",
       "    <tr style=\"text-align: right;\">\n",
       "      <th></th>\n",
       "      <th>vhigh</th>\n",
       "      <th>vhigh.1</th>\n",
       "      <th>2</th>\n",
       "      <th>2.1</th>\n",
       "      <th>small</th>\n",
       "      <th>low</th>\n",
       "      <th>unacc</th>\n",
       "    </tr>\n",
       "  </thead>\n",
       "  <tbody>\n",
       "    <tr>\n",
       "      <th>734</th>\n",
       "      <td>high</td>\n",
       "      <td>med</td>\n",
       "      <td>5more</td>\n",
       "      <td>2</td>\n",
       "      <td>big</td>\n",
       "      <td>low</td>\n",
       "      <td>unacc</td>\n",
       "    </tr>\n",
       "    <tr>\n",
       "      <th>393</th>\n",
       "      <td>vhigh</td>\n",
       "      <td>low</td>\n",
       "      <td>4</td>\n",
       "      <td>4</td>\n",
       "      <td>big</td>\n",
       "      <td>med</td>\n",
       "      <td>acc</td>\n",
       "    </tr>\n",
       "    <tr>\n",
       "      <th>1629</th>\n",
       "      <td>low</td>\n",
       "      <td>low</td>\n",
       "      <td>2</td>\n",
       "      <td>4</td>\n",
       "      <td>small</td>\n",
       "      <td>med</td>\n",
       "      <td>acc</td>\n",
       "    </tr>\n",
       "    <tr>\n",
       "      <th>481</th>\n",
       "      <td>high</td>\n",
       "      <td>vhigh</td>\n",
       "      <td>3</td>\n",
       "      <td>more</td>\n",
       "      <td>med</td>\n",
       "      <td>high</td>\n",
       "      <td>unacc</td>\n",
       "    </tr>\n",
       "  </tbody>\n",
       "</table>\n",
       "</div>"
      ],
      "text/plain": [
       "      vhigh vhigh.1      2   2.1  small   low  unacc\n",
       "734    high     med  5more     2    big   low  unacc\n",
       "393   vhigh     low      4     4    big   med    acc\n",
       "1629    low     low      2     4  small   med    acc\n",
       "481    high   vhigh      3  more    med  high  unacc"
      ]
     },
     "execution_count": 313,
     "metadata": {},
     "output_type": "execute_result"
    }
   ],
   "source": [
    "raw = pd.read_csv('car_data.txt')\n",
    "df = deepcopy(raw)\n",
    "df.sample(4)"
   ]
  },
  {
   "cell_type": "code",
   "execution_count": 128,
   "id": "e8cd0ddc",
   "metadata": {},
   "outputs": [],
   "source": [
    "def plot_countplot(data, target):\n",
    "    sns.set_theme(style=\"darkgrid\")\n",
    "    plt.figure(figsize=(9,7))\n",
    "    ax = sns.countplot(data=data, x=target, order=['unacc', 'acc', 'good', 'vgood']   )\n",
    "    for p in ax.patches:\n",
    "        total = len(data) \n",
    "        ax.annotate('{:.1f}%'.format(p.get_height()/total*100), (p.get_x()+0.25, p.get_height()+0.01))\n",
    "    plt.show();"
   ]
  },
  {
   "cell_type": "code",
   "execution_count": 129,
   "id": "dd6f88e2",
   "metadata": {
    "scrolled": false
   },
   "outputs": [
    {
     "data": {
      "image/png": "[encoded data removed]",
      "text/plain": [
       "<Figure size 648x504 with 1 Axes>"
      ]
     },
     "metadata": {},
     "output_type": "display_data"
    }
   ],
   "source": [
    "plot_countplot(df, 'unacc')"
   ]
  },
  {
   "cell_type": "code",
   "execution_count": 118,
   "id": "84ed1ab2",
   "metadata": {},
   "outputs": [
    {
     "data": {
      "text/html": [
       "<div>\n",
       "<style scoped>\n",
       "    .dataframe tbody tr th:only-of-type {\n",
       "        vertical-align: middle;\n",
       "    }\n",
       "\n",
       "    .dataframe tbody tr th {\n",
       "        vertical-align: top;\n",
       "    }\n",
       "\n",
       "    .dataframe thead th {\n",
       "        text-align: right;\n",
       "    }\n",
       "</style>\n",
       "<table border=\"1\" class=\"dataframe\">\n",
       "  <thead>\n",
       "    <tr style=\"text-align: right;\">\n",
       "      <th></th>\n",
       "      <th>vhigh</th>\n",
       "      <th>vhigh.1</th>\n",
       "      <th>2</th>\n",
       "      <th>2.1</th>\n",
       "      <th>small</th>\n",
       "      <th>low</th>\n",
       "      <th>unacc</th>\n",
       "    </tr>\n",
       "  </thead>\n",
       "  <tbody>\n",
       "    <tr>\n",
       "      <th>count</th>\n",
       "      <td>1727</td>\n",
       "      <td>1727</td>\n",
       "      <td>1727</td>\n",
       "      <td>1727</td>\n",
       "      <td>1727</td>\n",
       "      <td>1727</td>\n",
       "      <td>1727</td>\n",
       "    </tr>\n",
       "    <tr>\n",
       "      <th>unique</th>\n",
       "      <td>4</td>\n",
       "      <td>4</td>\n",
       "      <td>4</td>\n",
       "      <td>3</td>\n",
       "      <td>3</td>\n",
       "      <td>3</td>\n",
       "      <td>4</td>\n",
       "    </tr>\n",
       "    <tr>\n",
       "      <th>top</th>\n",
       "      <td>high</td>\n",
       "      <td>high</td>\n",
       "      <td>3</td>\n",
       "      <td>4</td>\n",
       "      <td>med</td>\n",
       "      <td>med</td>\n",
       "      <td>unacc</td>\n",
       "    </tr>\n",
       "    <tr>\n",
       "      <th>freq</th>\n",
       "      <td>432</td>\n",
       "      <td>432</td>\n",
       "      <td>432</td>\n",
       "      <td>576</td>\n",
       "      <td>576</td>\n",
       "      <td>576</td>\n",
       "      <td>1209</td>\n",
       "    </tr>\n",
       "  </tbody>\n",
       "</table>\n",
       "</div>"
      ],
      "text/plain": [
       "       vhigh vhigh.1     2   2.1 small   low  unacc\n",
       "count   1727    1727  1727  1727  1727  1727   1727\n",
       "unique     4       4     4     3     3     3      4\n",
       "top     high    high     3     4   med   med  unacc\n",
       "freq     432     432   432   576   576   576   1209"
      ]
     },
     "execution_count": 118,
     "metadata": {},
     "output_type": "execute_result"
    }
   ],
   "source": [
    "df.describe() #Very few unique values each"
   ]
  },
  {
   "cell_type": "code",
   "execution_count": 120,
   "id": "1284b781",
   "metadata": {},
   "outputs": [
    {
     "name": "stdout",
     "output_type": "stream",
     "text": [
      "vhigh: ['vhigh' 'high' 'med' 'low']\n",
      "vhigh.1: ['vhigh' 'high' 'med' 'low']\n",
      "2: ['2' '3' '4' '5more']\n",
      "2.1: ['2' '4' 'more']\n",
      "small: ['small' 'med' 'big']\n",
      "low: ['med' 'high' 'low']\n",
      "unacc: ['unacc' 'acc' 'vgood' 'good']\n"
     ]
    }
   ],
   "source": [
    "for col in df.columns:\n",
    "    print(f'''{col}: {df[col].unique()}''')"
   ]
  },
  {
   "cell_type": "code",
   "execution_count": 127,
   "id": "e913c59a",
   "metadata": {},
   "outputs": [
    {
     "name": "stdout",
     "output_type": "stream",
     "text": [
      "vhigh:        vhigh\n",
      "high     432\n",
      "med      432\n",
      "low      432\n",
      "vhigh    431 \n",
      "\n",
      "vhigh.1:        vhigh.1\n",
      "high       432\n",
      "med        432\n",
      "low        432\n",
      "vhigh      431 \n",
      "\n",
      "2:          2\n",
      "3      432\n",
      "4      432\n",
      "5more  432\n",
      "2      431 \n",
      "\n",
      "2.1:       2.1\n",
      "4     576\n",
      "more  576\n",
      "2     575 \n",
      "\n",
      "small:        small\n",
      "med      576\n",
      "big      576\n",
      "small    575 \n",
      "\n",
      "low:       low\n",
      "med   576\n",
      "high  576\n",
      "low   575 \n",
      "\n",
      "unacc:        unacc\n",
      "unacc   1209\n",
      "acc      384\n",
      "good      69\n",
      "vgood     65 \n",
      "\n"
     ]
    }
   ],
   "source": [
    "#This seems like such a uniform distribution\n",
    "for col in df.columns:\n",
    "    print(f'''{col}: {df[col].value_counts().to_frame()} \\n''')"
   ]
  },
  {
   "cell_type": "code",
   "execution_count": 131,
   "id": "b0360d94",
   "metadata": {},
   "outputs": [],
   "source": [
    "def plot_countplot(data):\n",
    "    sns.set_theme(style=\"darkgrid\")\n",
    "    plt.figure(figsize=(9,7))\n",
    "    for column in df.columns[:-1]:\n",
    "        ax = sns.countplot(data=data, x=column)\n",
    "        for p in ax.patches:\n",
    "            total = len(data) \n",
    "            ax.annotate('{:.1f}%'.format(p.get_height()/total*100), (p.get_x()+0.25, p.get_height()+0.01))\n",
    "        plt.show();"
   ]
  },
  {
   "cell_type": "code",
   "execution_count": 132,
   "id": "34c727da",
   "metadata": {},
   "outputs": [
    {
     "data": {
      "image/png": "[encoded data removed]",
      "text/plain": [
       "<Figure size 648x504 with 1 Axes>"
      ]
     },
     "metadata": {},
     "output_type": "display_data"
    },
    {
     "data": {
      "image/png": "[encoded data removed]",
      "text/plain": [
       "<Figure size 432x288 with 1 Axes>"
      ]
     },
     "metadata": {},
     "output_type": "display_data"
    },
    {
     "data": {
      "image/png": "[encoded data removed]",
      "text/plain": [
       "<Figure size 432x288 with 1 Axes>"
      ]
     },
     "metadata": {},
     "output_type": "display_data"
    },
    {
     "data": {
      "image/png": "[encoded data removed]",
      "text/plain": [
       "<Figure size 432x288 with 1 Axes>"
      ]
     },
     "metadata": {},
     "output_type": "display_data"
    },
    {
     "data": {
      "image/png": "[encoded data removed]",
      "text/plain": [
       "<Figure size 432x288 with 1 Axes>"
      ]
     },
     "metadata": {},
     "output_type": "display_data"
    },
    {
     "data": {
      "image/png": "[encoded data removed]",
      "text/plain": [
       "<Figure size 432x288 with 1 Axes>"
      ]
     },
     "metadata": {},
     "output_type": "display_data"
    }
   ],
   "source": [
    "plot_countplot(df) #The samples have equal size. The features are ordinal."
   ]
  },
  {
   "cell_type": "code",
   "execution_count": 215,
   "id": "0add21e5",
   "metadata": {},
   "outputs": [
    {
     "data": {
      "text/plain": [
       "0"
      ]
     },
     "execution_count": 215,
     "metadata": {},
     "output_type": "execute_result"
    }
   ],
   "source": [
    "df.duplicated().sum()"
   ]
  },
  {
   "cell_type": "markdown",
   "id": "de620541",
   "metadata": {},
   "source": [
    "##### Chi-Square test between the features and the target"
   ]
  },
  {
   "cell_type": "code",
   "execution_count": 314,
   "id": "73a1bb48",
   "metadata": {},
   "outputs": [
    {
     "name": "stdout",
     "output_type": "stream",
     "text": [
      "P-value for vhigh: , 7.029416116370655e-36\n",
      "P-value for vhigh.1: , 2.9808687284632554e-26\n",
      "P-value for 2: , 0.3312602352450521\n",
      "P-value for 2.1: , 5.30659778660845e-77\n",
      "P-value for small: , 1.129629723303536e-09\n",
      "P-value for low: , 3.2287730970407905e-100\n"
     ]
    }
   ],
   "source": [
    "for column in df.columns[:-1]:\n",
    "    csq = chi2_contingency(pd.crosstab(df[column], df['unacc']), correction=True)\n",
    "    print(f'''P-value for {column}: , {csq[1]}''')"
   ]
  },
  {
   "cell_type": "code",
   "execution_count": 315,
   "id": "177ac459",
   "metadata": {},
   "outputs": [],
   "source": [
    "df = pd.concat([pd.get_dummies(df.iloc[:,:-1]), df['unacc']], axis=1)"
   ]
  },
  {
   "cell_type": "code",
   "execution_count": 316,
   "id": "4a0c1f8f",
   "metadata": {},
   "outputs": [],
   "source": [
    "l = LabelEncoder()\n",
    "df['unac'] = pd.Series(l.fit_transform(df.iloc[:,-1])).to_frame()\n",
    "df.drop('unacc', axis=1, inplace=True)"
   ]
  },
  {
   "cell_type": "code",
   "execution_count": 317,
   "id": "bacf75f5",
   "metadata": {},
   "outputs": [
    {
     "data": {
      "text/html": [
       "<div>\n",
       "<style scoped>\n",
       "    .dataframe tbody tr th:only-of-type {\n",
       "        vertical-align: middle;\n",
       "    }\n",
       "\n",
       "    .dataframe tbody tr th {\n",
       "        vertical-align: top;\n",
       "    }\n",
       "\n",
       "    .dataframe thead th {\n",
       "        text-align: right;\n",
       "    }\n",
       "</style>\n",
       "<table border=\"1\" class=\"dataframe\">\n",
       "  <thead>\n",
       "    <tr style=\"text-align: right;\">\n",
       "      <th></th>\n",
       "      <th>vhigh_high</th>\n",
       "      <th>vhigh_low</th>\n",
       "      <th>vhigh_med</th>\n",
       "      <th>vhigh_vhigh</th>\n",
       "      <th>vhigh.1_high</th>\n",
       "      <th>vhigh.1_low</th>\n",
       "      <th>vhigh.1_med</th>\n",
       "      <th>vhigh.1_vhigh</th>\n",
       "      <th>2_2</th>\n",
       "      <th>2_3</th>\n",
       "      <th>...</th>\n",
       "      <th>2.1_2</th>\n",
       "      <th>2.1_4</th>\n",
       "      <th>2.1_more</th>\n",
       "      <th>small_big</th>\n",
       "      <th>small_med</th>\n",
       "      <th>small_small</th>\n",
       "      <th>low_high</th>\n",
       "      <th>low_low</th>\n",
       "      <th>low_med</th>\n",
       "      <th>unac</th>\n",
       "    </tr>\n",
       "  </thead>\n",
       "  <tbody>\n",
       "    <tr>\n",
       "      <th>1722</th>\n",
       "      <td>0</td>\n",
       "      <td>1</td>\n",
       "      <td>0</td>\n",
       "      <td>0</td>\n",
       "      <td>0</td>\n",
       "      <td>1</td>\n",
       "      <td>0</td>\n",
       "      <td>0</td>\n",
       "      <td>0</td>\n",
       "      <td>0</td>\n",
       "      <td>...</td>\n",
       "      <td>0</td>\n",
       "      <td>0</td>\n",
       "      <td>1</td>\n",
       "      <td>0</td>\n",
       "      <td>1</td>\n",
       "      <td>0</td>\n",
       "      <td>0</td>\n",
       "      <td>0</td>\n",
       "      <td>1</td>\n",
       "      <td>1</td>\n",
       "    </tr>\n",
       "    <tr>\n",
       "      <th>1723</th>\n",
       "      <td>0</td>\n",
       "      <td>1</td>\n",
       "      <td>0</td>\n",
       "      <td>0</td>\n",
       "      <td>0</td>\n",
       "      <td>1</td>\n",
       "      <td>0</td>\n",
       "      <td>0</td>\n",
       "      <td>0</td>\n",
       "      <td>0</td>\n",
       "      <td>...</td>\n",
       "      <td>0</td>\n",
       "      <td>0</td>\n",
       "      <td>1</td>\n",
       "      <td>0</td>\n",
       "      <td>1</td>\n",
       "      <td>0</td>\n",
       "      <td>1</td>\n",
       "      <td>0</td>\n",
       "      <td>0</td>\n",
       "      <td>3</td>\n",
       "    </tr>\n",
       "    <tr>\n",
       "      <th>1724</th>\n",
       "      <td>0</td>\n",
       "      <td>1</td>\n",
       "      <td>0</td>\n",
       "      <td>0</td>\n",
       "      <td>0</td>\n",
       "      <td>1</td>\n",
       "      <td>0</td>\n",
       "      <td>0</td>\n",
       "      <td>0</td>\n",
       "      <td>0</td>\n",
       "      <td>...</td>\n",
       "      <td>0</td>\n",
       "      <td>0</td>\n",
       "      <td>1</td>\n",
       "      <td>1</td>\n",
       "      <td>0</td>\n",
       "      <td>0</td>\n",
       "      <td>0</td>\n",
       "      <td>1</td>\n",
       "      <td>0</td>\n",
       "      <td>2</td>\n",
       "    </tr>\n",
       "    <tr>\n",
       "      <th>1725</th>\n",
       "      <td>0</td>\n",
       "      <td>1</td>\n",
       "      <td>0</td>\n",
       "      <td>0</td>\n",
       "      <td>0</td>\n",
       "      <td>1</td>\n",
       "      <td>0</td>\n",
       "      <td>0</td>\n",
       "      <td>0</td>\n",
       "      <td>0</td>\n",
       "      <td>...</td>\n",
       "      <td>0</td>\n",
       "      <td>0</td>\n",
       "      <td>1</td>\n",
       "      <td>1</td>\n",
       "      <td>0</td>\n",
       "      <td>0</td>\n",
       "      <td>0</td>\n",
       "      <td>0</td>\n",
       "      <td>1</td>\n",
       "      <td>1</td>\n",
       "    </tr>\n",
       "    <tr>\n",
       "      <th>1726</th>\n",
       "      <td>0</td>\n",
       "      <td>1</td>\n",
       "      <td>0</td>\n",
       "      <td>0</td>\n",
       "      <td>0</td>\n",
       "      <td>1</td>\n",
       "      <td>0</td>\n",
       "      <td>0</td>\n",
       "      <td>0</td>\n",
       "      <td>0</td>\n",
       "      <td>...</td>\n",
       "      <td>0</td>\n",
       "      <td>0</td>\n",
       "      <td>1</td>\n",
       "      <td>1</td>\n",
       "      <td>0</td>\n",
       "      <td>0</td>\n",
       "      <td>1</td>\n",
       "      <td>0</td>\n",
       "      <td>0</td>\n",
       "      <td>3</td>\n",
       "    </tr>\n",
       "  </tbody>\n",
       "</table>\n",
       "<p>5 rows × 22 columns</p>\n",
       "</div>"
      ],
      "text/plain": [
       "      vhigh_high  vhigh_low  vhigh_med  vhigh_vhigh  vhigh.1_high  \\\n",
       "1722           0          1          0            0             0   \n",
       "1723           0          1          0            0             0   \n",
       "1724           0          1          0            0             0   \n",
       "1725           0          1          0            0             0   \n",
       "1726           0          1          0            0             0   \n",
       "\n",
       "      vhigh.1_low  vhigh.1_med  vhigh.1_vhigh  2_2  2_3  ...  2.1_2  2.1_4  \\\n",
       "1722            1            0              0    0    0  ...      0      0   \n",
       "1723            1            0              0    0    0  ...      0      0   \n",
       "1724            1            0              0    0    0  ...      0      0   \n",
       "1725            1            0              0    0    0  ...      0      0   \n",
       "1726            1            0              0    0    0  ...      0      0   \n",
       "\n",
       "      2.1_more  small_big  small_med  small_small  low_high  low_low  low_med  \\\n",
       "1722         1          0          1            0         0        0        1   \n",
       "1723         1          0          1            0         1        0        0   \n",
       "1724         1          1          0            0         0        1        0   \n",
       "1725         1          1          0            0         0        0        1   \n",
       "1726         1          1          0            0         1        0        0   \n",
       "\n",
       "      unac  \n",
       "1722     1  \n",
       "1723     3  \n",
       "1724     2  \n",
       "1725     1  \n",
       "1726     3  \n",
       "\n",
       "[5 rows x 22 columns]"
      ]
     },
     "execution_count": 317,
     "metadata": {},
     "output_type": "execute_result"
    }
   ],
   "source": [
    "df.tail()"
   ]
  },
  {
   "cell_type": "markdown",
   "id": "f47cceaf",
   "metadata": {},
   "source": [
    "#### Random Forest Classifier (without tuning)"
   ]
  },
  {
   "cell_type": "code",
   "execution_count": 319,
   "id": "9cf44efa",
   "metadata": {},
   "outputs": [],
   "source": [
    "x = df.iloc[:,:-1] #Pre-modeling\n",
    "y = df.iloc[:,-1]\n",
    "x_train, x_test, y_train, y_test = train_test_split(x, y, test_size=0.20, random_state=42)"
   ]
  },
  {
   "cell_type": "code",
   "execution_count": 320,
   "id": "b0c8ba51",
   "metadata": {},
   "outputs": [],
   "source": [
    "rfc = RandomForestClassifier(n_estimators=300, max_depth=12)\n",
    "rfc = rfc.fit(x_train, y_train)\n",
    "forest_preds = rfc.predict(x_test)\n",
    "forest_probs = rfc.predict_proba(x_test)[:,1]"
   ]
  },
  {
   "cell_type": "code",
   "execution_count": 321,
   "id": "9be94120",
   "metadata": {},
   "outputs": [
    {
     "name": "stdout",
     "output_type": "stream",
     "text": [
      "              precision    recall  f1-score   support\n",
      "\n",
      "           0       0.91      0.96      0.94        77\n",
      "           1       0.90      0.60      0.72        15\n",
      "           2       1.00      0.99      0.99       237\n",
      "           3       0.68      0.76      0.72        17\n",
      "\n",
      "    accuracy                           0.96       346\n",
      "   macro avg       0.87      0.83      0.84       346\n",
      "weighted avg       0.96      0.96      0.96       346\n",
      "\n"
     ]
    }
   ],
   "source": [
    "print(classification_report(y_test, forest_preds))"
   ]
  },
  {
   "cell_type": "code",
   "execution_count": 323,
   "id": "8878dd4b",
   "metadata": {},
   "outputs": [],
   "source": [
    "def plot_rf_feat_importance(rf_model, X):\n",
    "    rf_features_importance=pd.DataFrame({\n",
    "    \"Features\":list(rf_model.feature_importances_)\n",
    "    },index=X.columns).sort_values(by=\"Features\", axis=0, ascending=True)\n",
    "    \n",
    "    fig = plt.figure(figsize=(12,6))\n",
    "    ax = fig.add_axes([0,0,1,1])\n",
    "    ax.barh(rf_features_importance.index[-10:],rf_features_importance.Features[-10:],color=\"purple\")\n",
    "    for i, v in enumerate(rf_features_importance.Features[-10:]):\n",
    "        ax.text(v+0.001, i,('% 0.2f' % v)+\"%\")\n",
    "    plt.show();"
   ]
  },
  {
   "cell_type": "code",
   "execution_count": 306,
   "id": "d4e14568",
   "metadata": {},
   "outputs": [
    {
     "data": {
      "image/png": "[encoded data removed]",
      "text/plain": [
       "<Figure size 864x432 with 1 Axes>"
      ]
     },
     "metadata": {
      "needs_background": "light"
     },
     "output_type": "display_data"
    }
   ],
   "source": [
    "plot_rf_feat_importance(rf_model=rfc, X=x) #The most important encoded features"
   ]
  },
  {
   "cell_type": "code",
   "execution_count": 307,
   "id": "5264d60c",
   "metadata": {},
   "outputs": [],
   "source": [
    "def plot_summary(model, X_train):\n",
    "    explainer = shap.TreeExplainer(model)\n",
    "    shap_values = explainer.shap_values(X_train)\n",
    "    shap.summary_plot(shap_values[1], X_train.astype(\"float\"))"
   ]
  },
  {
   "cell_type": "code",
   "execution_count": 311,
   "id": "f478bb50",
   "metadata": {},
   "outputs": [
    {
     "data": {
      "image/png": "[encoded data removed]",
      "text/plain": [
       "<Figure size 576x684 with 2 Axes>"
      ]
     },
     "metadata": {
      "needs_background": "light"
     },
     "output_type": "display_data"
    }
   ],
   "source": [
    "plot_summary(rfc, x_train)"
   ]
  },
  {
   "cell_type": "markdown",
   "id": "836d0db5",
   "metadata": {},
   "source": [
    "#### Random Forest with Cross-Validation and Tuning"
   ]
  },
  {
   "cell_type": "code",
   "execution_count": 324,
   "id": "dd04dd29",
   "metadata": {},
   "outputs": [],
   "source": [
    "rfc_ = RandomForestClassifier(random_state=42)"
   ]
  },
  {
   "cell_type": "code",
   "execution_count": 325,
   "id": "042d3b7d",
   "metadata": {},
   "outputs": [],
   "source": [
    "param_grid = { \n",
    "    'n_estimators': [300, 500],\n",
    "    'max_features': ['auto', 'sqrt', 'log2'],\n",
    "    'max_depth' : [6,7,8,10,12],\n",
    "    'criterion' :['gini', 'entropy']\n",
    "}"
   ]
  },
  {
   "cell_type": "code",
   "execution_count": 326,
   "id": "d584089c",
   "metadata": {},
   "outputs": [
    {
     "data": {
      "text/plain": [
       "GridSearchCV(cv=5, estimator=RandomForestClassifier(random_state=42),\n",
       "             param_grid={'criterion': ['gini', 'entropy'],\n",
       "                         'max_depth': [6, 7, 8, 10, 12],\n",
       "                         'max_features': ['auto', 'sqrt', 'log2'],\n",
       "                         'n_estimators': [300, 500]})"
      ]
     },
     "execution_count": 326,
     "metadata": {},
     "output_type": "execute_result"
    }
   ],
   "source": [
    "CV_rfc = GridSearchCV(estimator=rfc_, param_grid=param_grid, cv=5)\n",
    "CV_rfc.fit(x_train, y_train)"
   ]
  },
  {
   "cell_type": "code",
   "execution_count": 327,
   "id": "53259aa3",
   "metadata": {},
   "outputs": [
    {
     "data": {
      "text/plain": [
       "{'criterion': 'gini',\n",
       " 'max_depth': 12,\n",
       " 'max_features': 'auto',\n",
       " 'n_estimators': 500}"
      ]
     },
     "execution_count": 327,
     "metadata": {},
     "output_type": "execute_result"
    }
   ],
   "source": [
    "CV_rfc.best_params_"
   ]
  },
  {
   "cell_type": "code",
   "execution_count": 328,
   "id": "c53d358c",
   "metadata": {},
   "outputs": [
    {
     "data": {
      "text/plain": [
       "RandomForestClassifier(max_depth=12, n_estimators=500)"
      ]
     },
     "execution_count": 328,
     "metadata": {},
     "output_type": "execute_result"
    }
   ],
   "source": [
    "rfc1=RandomForestClassifier(max_features='auto', n_estimators= 500, \n",
    "                            max_depth=12, criterion='gini')\n",
    "rfc1.fit(x_train, y_train)"
   ]
  },
  {
   "cell_type": "code",
   "execution_count": 329,
   "id": "ca533356",
   "metadata": {},
   "outputs": [],
   "source": [
    "rf_pred = rfc1.predict(x_test)"
   ]
  },
  {
   "cell_type": "markdown",
   "id": "5af8f812",
   "metadata": {},
   "source": [
    "##### Our recall and f1-score results have improved (especially for the smaller samples)"
   ]
  },
  {
   "cell_type": "code",
   "execution_count": 330,
   "id": "a026d536",
   "metadata": {},
   "outputs": [
    {
     "name": "stdout",
     "output_type": "stream",
     "text": [
      "              precision    recall  f1-score   support\n",
      "\n",
      "           0       0.91      0.96      0.94        77\n",
      "           1       0.90      0.60      0.72        15\n",
      "           2       1.00      0.99      0.99       237\n",
      "           3       0.74      0.82      0.78        17\n",
      "\n",
      "    accuracy                           0.96       346\n",
      "   macro avg       0.89      0.84      0.86       346\n",
      "weighted avg       0.96      0.96      0.96       346\n",
      "\n"
     ]
    }
   ],
   "source": [
    "print(classification_report(y_test, rf_pred)) "
   ]
  },
  {
   "cell_type": "code",
   "execution_count": 332,
   "id": "6982d878",
   "metadata": {},
   "outputs": [
    {
     "data": {
      "text/plain": [
       "1.0"
      ]
     },
     "execution_count": 332,
     "metadata": {},
     "output_type": "execute_result"
    }
   ],
   "source": [
    "rfc.score(x_train, y_train) #We have slight overfitting"
   ]
  }
 ],
 "metadata": {
  "kernelspec": {
   "display_name": "Python 3 (ipykernel)",
   "language": "python",
   "name": "python3"
  },
  "language_info": {
   "codemirror_mode": {
    "name": "ipython",
    "version": 3
   },
   "file_extension": ".py",
   "mimetype": "text/x-python",
   "name": "python",
   "nbconvert_exporter": "python",
   "pygments_lexer": "ipython3",
   "version": "3.8.8"
  }
 },
 "nbformat": 4,
 "nbformat_minor": 5
}
