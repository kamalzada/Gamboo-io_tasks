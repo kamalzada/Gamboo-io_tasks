{
  "nbformat": 4,
  "nbformat_minor": 0,
  "metadata": {
    "colab": {
      "name": "diamond_price_prediction.ipynb",
      "provenance": [],
      "collapsed_sections": [],
      "authorship_tag": "ABX9TyP6go8+2xuHVvMHndMIIQEK"
    },
    "kernelspec": {
      "name": "python3",
      "display_name": "Python 3"
    },
    "language_info": {
      "name": "python"
    }
  },
  "cells": [
    {
      "cell_type": "markdown",
      "source": [
        "# #Diamond Price Prediction"
      ],
      "metadata": {
        "id": "ORTNTZ5FOwbm"
      }
    },
    {
      "cell_type": "markdown",
      "source": [
        "### 1. Linear Regression \n",
        "~Deploying various feature combinations"
      ],
      "metadata": {
        "id": "7znfjLm3R6hw"
      }
    },
    {
      "cell_type": "code",
      "execution_count": 4,
      "metadata": {
        "id": "JEn-qkkJKa88"
      },
      "outputs": [],
      "source": [
        "%run Utility_tools.ipynb"
      ]
    },
    {
      "cell_type": "code",
      "source": [
        "%run Libraries.ipynb"
      ],
      "metadata": {
        "id": "MqFnni0FKtLv"
      },
      "execution_count": 75,
      "outputs": []
    },
    {
      "cell_type": "code",
      "source": [
        "raw = pd.read_csv('diamond_pred.csv', index_col=[0])\n",
        "df = deepcopy(raw)"
      ],
      "metadata": {
        "id": "rVuhVSMYKvyx"
      },
      "execution_count": 17,
      "outputs": []
    },
    {
      "cell_type": "code",
      "source": [
        "df.sample(4)"
      ],
      "metadata": {
        "colab": {
          "base_uri": "https://localhost:8080/",
          "height": 175
        },
        "id": "Pa1fg7MJLWCQ",
        "outputId": "0feb1e9d-37c2-474e-e637-ae5bd875b4d8"
      },
      "execution_count": 18,
      "outputs": [
        {
          "output_type": "execute_result",
          "data": {
            "text/plain": [
              "          carat        cut color clarity     depth  table  price         x  \\\n",
              "37251  0.399902      Ideal     G    VVS1  61.31250   56.0    977  4.738281   \n",
              "51699  0.700195  Very Good     F     VS2  62.18750   56.0   2400  5.699219   \n",
              "35934  0.370117      Ideal     F    VVS2  61.59375   57.0    920  4.589844   \n",
              "10899  1.019531  Very Good     H     SI1  63.40625   57.0   4884  6.421875   \n",
              "\n",
              "              y         z  size_volume  \n",
              "37251  4.750000  2.910156    65.498409  \n",
              "51699  5.738281  3.560547   116.443128  \n",
              "35934  4.628906  2.839844    60.335197  \n",
              "10899  6.359375  4.050781   165.430306  "
            ],
            "text/html": [
              "\n",
              "  <div id=\"df-01e1a5c5-b264-4627-bf8d-65bd117acfdf\">\n",
              "    <div class=\"colab-df-container\">\n",
              "      <div>\n",
              "<style scoped>\n",
              "    .dataframe tbody tr th:only-of-type {\n",
              "        vertical-align: middle;\n",
              "    }\n",
              "\n",
              "    .dataframe tbody tr th {\n",
              "        vertical-align: top;\n",
              "    }\n",
              "\n",
              "    .dataframe thead th {\n",
              "        text-align: right;\n",
              "    }\n",
              "</style>\n",
              "<table border=\"1\" class=\"dataframe\">\n",
              "  <thead>\n",
              "    <tr style=\"text-align: right;\">\n",
              "      <th></th>\n",
              "      <th>carat</th>\n",
              "      <th>cut</th>\n",
              "      <th>color</th>\n",
              "      <th>clarity</th>\n",
              "      <th>depth</th>\n",
              "      <th>table</th>\n",
              "      <th>price</th>\n",
              "      <th>x</th>\n",
              "      <th>y</th>\n",
              "      <th>z</th>\n",
              "      <th>size_volume</th>\n",
              "    </tr>\n",
              "  </thead>\n",
              "  <tbody>\n",
              "    <tr>\n",
              "      <th>37251</th>\n",
              "      <td>0.399902</td>\n",
              "      <td>Ideal</td>\n",
              "      <td>G</td>\n",
              "      <td>VVS1</td>\n",
              "      <td>61.31250</td>\n",
              "      <td>56.0</td>\n",
              "      <td>977</td>\n",
              "      <td>4.738281</td>\n",
              "      <td>4.750000</td>\n",
              "      <td>2.910156</td>\n",
              "      <td>65.498409</td>\n",
              "    </tr>\n",
              "    <tr>\n",
              "      <th>51699</th>\n",
              "      <td>0.700195</td>\n",
              "      <td>Very Good</td>\n",
              "      <td>F</td>\n",
              "      <td>VS2</td>\n",
              "      <td>62.18750</td>\n",
              "      <td>56.0</td>\n",
              "      <td>2400</td>\n",
              "      <td>5.699219</td>\n",
              "      <td>5.738281</td>\n",
              "      <td>3.560547</td>\n",
              "      <td>116.443128</td>\n",
              "    </tr>\n",
              "    <tr>\n",
              "      <th>35934</th>\n",
              "      <td>0.370117</td>\n",
              "      <td>Ideal</td>\n",
              "      <td>F</td>\n",
              "      <td>VVS2</td>\n",
              "      <td>61.59375</td>\n",
              "      <td>57.0</td>\n",
              "      <td>920</td>\n",
              "      <td>4.589844</td>\n",
              "      <td>4.628906</td>\n",
              "      <td>2.839844</td>\n",
              "      <td>60.335197</td>\n",
              "    </tr>\n",
              "    <tr>\n",
              "      <th>10899</th>\n",
              "      <td>1.019531</td>\n",
              "      <td>Very Good</td>\n",
              "      <td>H</td>\n",
              "      <td>SI1</td>\n",
              "      <td>63.40625</td>\n",
              "      <td>57.0</td>\n",
              "      <td>4884</td>\n",
              "      <td>6.421875</td>\n",
              "      <td>6.359375</td>\n",
              "      <td>4.050781</td>\n",
              "      <td>165.430306</td>\n",
              "    </tr>\n",
              "  </tbody>\n",
              "</table>\n",
              "</div>\n",
              "      <button class=\"colab-df-convert\" onclick=\"convertToInteractive('df-01e1a5c5-b264-4627-bf8d-65bd117acfdf')\"\n",
              "              title=\"Convert this dataframe to an interactive table.\"\n",
              "              style=\"display:none;\">\n",
              "        \n",
              "  <svg xmlns=\"http://www.w3.org/2000/svg\" height=\"24px\"viewBox=\"0 0 24 24\"\n",
              "       width=\"24px\">\n",
              "    <path d=\"M0 0h24v24H0V0z\" fill=\"none\"/>\n",
              "    <path d=\"M18.56 5.44l.94 2.06.94-2.06 2.06-.94-2.06-.94-.94-2.06-.94 2.06-2.06.94zm-11 1L8.5 8.5l.94-2.06 2.06-.94-2.06-.94L8.5 2.5l-.94 2.06-2.06.94zm10 10l.94 2.06.94-2.06 2.06-.94-2.06-.94-.94-2.06-.94 2.06-2.06.94z\"/><path d=\"M17.41 7.96l-1.37-1.37c-.4-.4-.92-.59-1.43-.59-.52 0-1.04.2-1.43.59L10.3 9.45l-7.72 7.72c-.78.78-.78 2.05 0 2.83L4 21.41c.39.39.9.59 1.41.59.51 0 1.02-.2 1.41-.59l7.78-7.78 2.81-2.81c.8-.78.8-2.07 0-2.86zM5.41 20L4 18.59l7.72-7.72 1.47 1.35L5.41 20z\"/>\n",
              "  </svg>\n",
              "      </button>\n",
              "      \n",
              "  <style>\n",
              "    .colab-df-container {\n",
              "      display:flex;\n",
              "      flex-wrap:wrap;\n",
              "      gap: 12px;\n",
              "    }\n",
              "\n",
              "    .colab-df-convert {\n",
              "      background-color: #E8F0FE;\n",
              "      border: none;\n",
              "      border-radius: 50%;\n",
              "      cursor: pointer;\n",
              "      display: none;\n",
              "      fill: #1967D2;\n",
              "      height: 32px;\n",
              "      padding: 0 0 0 0;\n",
              "      width: 32px;\n",
              "    }\n",
              "\n",
              "    .colab-df-convert:hover {\n",
              "      background-color: #E2EBFA;\n",
              "      box-shadow: 0px 1px 2px rgba(60, 64, 67, 0.3), 0px 1px 3px 1px rgba(60, 64, 67, 0.15);\n",
              "      fill: #174EA6;\n",
              "    }\n",
              "\n",
              "    [theme=dark] .colab-df-convert {\n",
              "      background-color: #3B4455;\n",
              "      fill: #D2E3FC;\n",
              "    }\n",
              "\n",
              "    [theme=dark] .colab-df-convert:hover {\n",
              "      background-color: #434B5C;\n",
              "      box-shadow: 0px 1px 3px 1px rgba(0, 0, 0, 0.15);\n",
              "      filter: drop-shadow(0px 1px 2px rgba(0, 0, 0, 0.3));\n",
              "      fill: #FFFFFF;\n",
              "    }\n",
              "  </style>\n",
              "\n",
              "      <script>\n",
              "        const buttonEl =\n",
              "          document.querySelector('#df-01e1a5c5-b264-4627-bf8d-65bd117acfdf button.colab-df-convert');\n",
              "        buttonEl.style.display =\n",
              "          google.colab.kernel.accessAllowed ? 'block' : 'none';\n",
              "\n",
              "        async function convertToInteractive(key) {\n",
              "          const element = document.querySelector('#df-01e1a5c5-b264-4627-bf8d-65bd117acfdf');\n",
              "          const dataTable =\n",
              "            await google.colab.kernel.invokeFunction('convertToInteractive',\n",
              "                                                     [key], {});\n",
              "          if (!dataTable) return;\n",
              "\n",
              "          const docLinkHtml = 'Like what you see? Visit the ' +\n",
              "            '<a target=\"_blank\" href=https://colab.research.google.com/notebooks/data_table.ipynb>data table notebook</a>'\n",
              "            + ' to learn more about interactive tables.';\n",
              "          element.innerHTML = '';\n",
              "          dataTable['output_type'] = 'display_data';\n",
              "          await google.colab.output.renderOutput(dataTable, element);\n",
              "          const docLink = document.createElement('div');\n",
              "          docLink.innerHTML = docLinkHtml;\n",
              "          element.appendChild(docLink);\n",
              "        }\n",
              "      </script>\n",
              "    </div>\n",
              "  </div>\n",
              "  "
            ]
          },
          "metadata": {},
          "execution_count": 18
        }
      ]
    },
    {
      "cell_type": "code",
      "source": [
        "df.drop(['x', 'y', 'z', 'table', 'clarity', 'depth', 'color', 'cut'], axis=1, inplace=True)"
      ],
      "metadata": {
        "id": "-74eaY11LYQg"
      },
      "execution_count": 19,
      "outputs": []
    },
    {
      "cell_type": "code",
      "source": [
        "df = pd.concat([df.iloc[:,-1], df.iloc[:,:-1]], axis=1)"
      ],
      "metadata": {
        "id": "uo1GR6jBLtd8"
      },
      "execution_count": 20,
      "outputs": []
    },
    {
      "cell_type": "code",
      "source": [
        "#Pre-modeling\n",
        "x = df.iloc[:,:-1] \n",
        "y = df.iloc[:,-1]\n",
        "x_train, x_test, y_train, y_test = train_test_split(x, y, test_size=0.20, random_state=42)\n",
        "\n",
        "scaler = RobustScaler()\n",
        "x_train = scaler.fit_transform(x_train)\n",
        "x_train = pd.DataFrame(x_train)\n",
        "\n",
        "scaler = RobustScaler()\n",
        "x_test = scaler.fit_transform(x_test)\n",
        "x_test = pd.DataFrame(x_test) "
      ],
      "metadata": {
        "id": "zh3NqvjxMEQ1"
      },
      "execution_count": 23,
      "outputs": []
    },
    {
      "cell_type": "code",
      "source": [
        "lin_mod = LinearRegression()\n",
        "lin_mod.fit(x_train, y_train)\n",
        "preds = lin_mod.predict(x_test)"
      ],
      "metadata": {
        "id": "7tepjtogNDNm"
      },
      "execution_count": 26,
      "outputs": []
    },
    {
      "cell_type": "code",
      "source": [
        "rmse = np.sqrt(mean_squared_error(y_test, preds))\n",
        "rmse"
      ],
      "metadata": {
        "colab": {
          "base_uri": "https://localhost:8080/"
        },
        "id": "ac8UVQ3uOJYI",
        "outputId": "b232fbd1-144d-4043-e245-c8a0d5add80d"
      },
      "execution_count": 29,
      "outputs": [
        {
          "output_type": "execute_result",
          "data": {
            "text/plain": [
              "1527.9798053516042"
            ]
          },
          "metadata": {},
          "execution_count": 29
        }
      ]
    },
    {
      "cell_type": "code",
      "source": [
        "lin_mod.score(x_train, y_train)"
      ],
      "metadata": {
        "colab": {
          "base_uri": "https://localhost:8080/"
        },
        "id": "Hfhnqj5RRTAI",
        "outputId": "4574401f-d9a4-4daf-a433-d07b69ce5f55"
      },
      "execution_count": 30,
      "outputs": [
        {
          "output_type": "execute_result",
          "data": {
            "text/plain": [
              "0.8524801179373925"
            ]
          },
          "metadata": {},
          "execution_count": 30
        }
      ]
    },
    {
      "cell_type": "code",
      "source": [
        "r2_score(y_test, preds)"
      ],
      "metadata": {
        "colab": {
          "base_uri": "https://localhost:8080/"
        },
        "id": "Vvn4yOJDOdQC",
        "outputId": "a64ae250-a4b8-488b-c45e-299d6184bbaf"
      },
      "execution_count": 31,
      "outputs": [
        {
          "output_type": "execute_result",
          "data": {
            "text/plain": [
              "0.8531327603621459"
            ]
          },
          "metadata": {},
          "execution_count": 31
        }
      ]
    },
    {
      "cell_type": "code",
      "source": [
        "mean_absolute_error(y_test, preds)"
      ],
      "metadata": {
        "colab": {
          "base_uri": "https://localhost:8080/"
        },
        "id": "PukJb2JDN8qt",
        "outputId": "1581b21d-5312-41c1-dc63-a0f610f9909e"
      },
      "execution_count": 32,
      "outputs": [
        {
          "output_type": "execute_result",
          "data": {
            "text/plain": [
              "1038.2510663009537"
            ]
          },
          "metadata": {},
          "execution_count": 32
        }
      ]
    },
    {
      "cell_type": "code",
      "source": [
        "normalized_rmse = rmse/(df['price'].max()-df['price'].min()) #rmse divided by the target's range\n",
        "normalized_rmse"
      ],
      "metadata": {
        "colab": {
          "base_uri": "https://localhost:8080/"
        },
        "id": "Jn1cu6m6OGeU",
        "outputId": "8769b530-c2bf-4836-d9bf-570dbd87f653"
      },
      "execution_count": 33,
      "outputs": [
        {
          "output_type": "execute_result",
          "data": {
            "text/plain": [
              "0.08260689870528216"
            ]
          },
          "metadata": {},
          "execution_count": 33
        }
      ]
    },
    {
      "cell_type": "markdown",
      "source": [
        "----------------------------------------"
      ],
      "metadata": {
        "id": "FG7RenmgPtHh"
      }
    },
    {
      "cell_type": "code",
      "source": [
        "df_1 = deepcopy(raw)"
      ],
      "metadata": {
        "id": "hwInE8bAPCb4"
      },
      "execution_count": 34,
      "outputs": []
    },
    {
      "cell_type": "code",
      "source": [
        "df_1.drop(['size_volume', 'table', 'clarity', 'depth', 'color', 'cut'], axis=1, inplace=True)"
      ],
      "metadata": {
        "id": "0AozMEVbP2FR"
      },
      "execution_count": 35,
      "outputs": []
    },
    {
      "cell_type": "code",
      "source": [
        "df_1 = pd.concat([df_1.iloc[:,2:], df_1.iloc[:,:2]], axis=1)"
      ],
      "metadata": {
        "id": "zRTEggjfQG2O"
      },
      "execution_count": 36,
      "outputs": []
    },
    {
      "cell_type": "code",
      "source": [
        "#Pre-modeling\n",
        "x = df_1.iloc[:,:-1] \n",
        "y = df_1.iloc[:,-1]\n",
        "x_train, x_test, y_train, y_test = train_test_split(x, y, test_size=0.20, random_state=42)\n",
        "\n",
        "scaler = RobustScaler()\n",
        "x_train = scaler.fit_transform(x_train)\n",
        "x_train = pd.DataFrame(x_train)\n",
        "\n",
        "scaler = RobustScaler()\n",
        "x_test = scaler.fit_transform(x_test)\n",
        "x_test = pd.DataFrame(x_test) "
      ],
      "metadata": {
        "id": "L36oxg35QnOo"
      },
      "execution_count": 37,
      "outputs": []
    },
    {
      "cell_type": "code",
      "source": [
        "lin_mod = LinearRegression()\n",
        "lin_mod.fit(x_train, y_train)\n",
        "preds = lin_mod.predict(x_test)"
      ],
      "metadata": {
        "id": "ozWV8iO0RJKs"
      },
      "execution_count": 38,
      "outputs": []
    },
    {
      "cell_type": "code",
      "source": [
        "rmse = np.sqrt(mean_squared_error(y_test, preds))\n",
        "rmse"
      ],
      "metadata": {
        "colab": {
          "base_uri": "https://localhost:8080/"
        },
        "id": "zim2UPB3RiVu",
        "outputId": "46e424c6-71b4-4864-828e-a57128939dc8"
      },
      "execution_count": 39,
      "outputs": [
        {
          "output_type": "execute_result",
          "data": {
            "text/plain": [
              "1451.4372592791165"
            ]
          },
          "metadata": {},
          "execution_count": 39
        }
      ]
    },
    {
      "cell_type": "code",
      "source": [
        "lin_mod.score(x_train, y_train)"
      ],
      "metadata": {
        "colab": {
          "base_uri": "https://localhost:8080/"
        },
        "id": "lslUEnvwRlDd",
        "outputId": "09123a1d-3b6b-4246-b46e-5890d69565d9"
      },
      "execution_count": 40,
      "outputs": [
        {
          "output_type": "execute_result",
          "data": {
            "text/plain": [
              "0.8659477342669937"
            ]
          },
          "metadata": {},
          "execution_count": 40
        }
      ]
    },
    {
      "cell_type": "code",
      "source": [
        "r2_score(y_test, preds)"
      ],
      "metadata": {
        "colab": {
          "base_uri": "https://localhost:8080/"
        },
        "id": "oyYXi_OFRpfL",
        "outputId": "f5c663bf-c998-4b4c-a12e-fb5b9b4c7060"
      },
      "execution_count": 41,
      "outputs": [
        {
          "output_type": "execute_result",
          "data": {
            "text/plain": [
              "0.8674785318509854"
            ]
          },
          "metadata": {},
          "execution_count": 41
        }
      ]
    },
    {
      "cell_type": "code",
      "source": [
        "mean_absolute_error(y_test, preds)"
      ],
      "metadata": {
        "colab": {
          "base_uri": "https://localhost:8080/"
        },
        "id": "obOUjIWORspc",
        "outputId": "7158c9e3-5224-44fa-cd38-d18c842566e9"
      },
      "execution_count": 42,
      "outputs": [
        {
          "output_type": "execute_result",
          "data": {
            "text/plain": [
              "876.2834821753437"
            ]
          },
          "metadata": {},
          "execution_count": 42
        }
      ]
    },
    {
      "cell_type": "code",
      "source": [
        "normalized_rmse = rmse/(df['price'].max()-df['price'].min()) \n",
        "normalized_rmse"
      ],
      "metadata": {
        "colab": {
          "base_uri": "https://localhost:8080/"
        },
        "id": "KhwarVUfRv0O",
        "outputId": "1efa2359-2dd0-44f1-94ad-055d73f3d693"
      },
      "execution_count": 43,
      "outputs": [
        {
          "output_type": "execute_result",
          "data": {
            "text/plain": [
              "0.07846879273823412"
            ]
          },
          "metadata": {},
          "execution_count": 43
        }
      ]
    },
    {
      "cell_type": "markdown",
      "source": [
        "-----------------------------------------------"
      ],
      "metadata": {
        "id": "IZXAAO8MSpXi"
      }
    },
    {
      "cell_type": "code",
      "source": [
        "df_2 = deepcopy(raw)"
      ],
      "metadata": {
        "id": "VAfGW7A3SqSi"
      },
      "execution_count": 44,
      "outputs": []
    },
    {
      "cell_type": "code",
      "source": [
        "df_2 = df_2[['carat', 'x', 'price']] "
      ],
      "metadata": {
        "id": "vxdLhOlySsps"
      },
      "execution_count": 45,
      "outputs": []
    },
    {
      "cell_type": "code",
      "source": [
        "#Pre-modeling\n",
        "x = df_2.iloc[:,:-1] \n",
        "y = df_2.iloc[:,-1]\n",
        "x_train, x_test, y_train, y_test = train_test_split(x, y, test_size=0.20, random_state=42)\n",
        "\n",
        "scaler = RobustScaler()\n",
        "x_train = scaler.fit_transform(x_train)\n",
        "x_train = pd.DataFrame(x_train)\n",
        "\n",
        "scaler = RobustScaler()\n",
        "x_test = scaler.fit_transform(x_test)\n",
        "x_test = pd.DataFrame(x_test) "
      ],
      "metadata": {
        "id": "PHdpj2PcS2VX"
      },
      "execution_count": 46,
      "outputs": []
    },
    {
      "cell_type": "code",
      "source": [
        "lin_mod = LinearRegression()\n",
        "lin_mod.fit(x_train, y_train)\n",
        "preds = lin_mod.predict(x_test)"
      ],
      "metadata": {
        "id": "ou63AORaS9Bf"
      },
      "execution_count": 47,
      "outputs": []
    },
    {
      "cell_type": "code",
      "source": [
        "rmse = np.sqrt(mean_squared_error(y_test, preds))\n",
        "rmse"
      ],
      "metadata": {
        "colab": {
          "base_uri": "https://localhost:8080/"
        },
        "id": "rrIqeSOBS_S4",
        "outputId": "f437a9e8-b364-4ad2-8afb-76727166edf2"
      },
      "execution_count": 48,
      "outputs": [
        {
          "output_type": "execute_result",
          "data": {
            "text/plain": [
              "1482.4085192495377"
            ]
          },
          "metadata": {},
          "execution_count": 48
        }
      ]
    },
    {
      "cell_type": "code",
      "source": [
        "lin_mod.score(x_train, y_train)"
      ],
      "metadata": {
        "colab": {
          "base_uri": "https://localhost:8080/"
        },
        "id": "Tqv2Cov3TLYV",
        "outputId": "01a962eb-bb22-4213-86cf-2ec19054d476"
      },
      "execution_count": 49,
      "outputs": [
        {
          "output_type": "execute_result",
          "data": {
            "text/plain": [
              "0.8622374982885902"
            ]
          },
          "metadata": {},
          "execution_count": 49
        }
      ]
    },
    {
      "cell_type": "code",
      "source": [
        "r2_score(y_test, preds)"
      ],
      "metadata": {
        "colab": {
          "base_uri": "https://localhost:8080/"
        },
        "id": "YKHyPUPOTO-X",
        "outputId": "e2d46091-b32e-4b64-ac3a-acc0f3ece138"
      },
      "execution_count": 50,
      "outputs": [
        {
          "output_type": "execute_result",
          "data": {
            "text/plain": [
              "0.8617626155844205"
            ]
          },
          "metadata": {},
          "execution_count": 50
        }
      ]
    },
    {
      "cell_type": "code",
      "source": [
        "mean_absolute_error(y_test, preds)"
      ],
      "metadata": {
        "colab": {
          "base_uri": "https://localhost:8080/"
        },
        "id": "yiTnkVY7TSG5",
        "outputId": "69ebb1de-354b-4db2-b405-5c7e1c73430c"
      },
      "execution_count": 51,
      "outputs": [
        {
          "output_type": "execute_result",
          "data": {
            "text/plain": [
              "900.41064949108"
            ]
          },
          "metadata": {},
          "execution_count": 51
        }
      ]
    },
    {
      "cell_type": "markdown",
      "source": [
        "#### It seems like the features x y z, when used, perform better than their engineered counterpart size_volume, despite being highly correlated with one another (carat is included). This could be because this newly created column has high variance."
      ],
      "metadata": {
        "id": "2hEGYGuCT6c4"
      }
    },
    {
      "cell_type": "code",
      "source": [
        "normalized_rmse = rmse/(df['price'].max()-df['price'].min()) \n",
        "normalized_rmse "
      ],
      "metadata": {
        "colab": {
          "base_uri": "https://localhost:8080/"
        },
        "id": "y6AKcZ45TU8o",
        "outputId": "61096ad5-d6e3-4187-ed49-75072a2dff21"
      },
      "execution_count": 52,
      "outputs": [
        {
          "output_type": "execute_result",
          "data": {
            "text/plain": [
              "0.08014318642209751"
            ]
          },
          "metadata": {},
          "execution_count": 52
        }
      ]
    },
    {
      "cell_type": "markdown",
      "source": [
        "--------------------------------------------"
      ],
      "metadata": {
        "id": "N-IY9iriThQ4"
      }
    },
    {
      "cell_type": "code",
      "source": [
        "df_3 = deepcopy(raw)"
      ],
      "metadata": {
        "id": "e5OrwIomTiJY"
      },
      "execution_count": 53,
      "outputs": []
    },
    {
      "cell_type": "code",
      "source": [
        "df_3.sample(3)"
      ],
      "metadata": {
        "colab": {
          "base_uri": "https://localhost:8080/",
          "height": 143
        },
        "id": "U9jEgWQXTmq6",
        "outputId": "8d24434a-bbaf-4c3c-cc46-8edea2ba24cb"
      },
      "execution_count": 54,
      "outputs": [
        {
          "output_type": "execute_result",
          "data": {
            "text/plain": [
              "          carat        cut color clarity     depth  table  price         x  \\\n",
              "223    0.750000  Very Good     D     SI2  63.09375   58.0   2782  5.781250   \n",
              "13618  1.209961    Premium     J    VVS2  60.81250   60.0   5572  6.859375   \n",
              "4087   0.899902  Very Good     D     SI2  60.31250   63.0   3534  6.121094   \n",
              "\n",
              "              y         z  size_volume  \n",
              "223    5.730469  3.630859   120.287730  \n",
              "13618  6.878906  4.179688   197.218544  \n",
              "4087   6.218750  3.720703   141.630617  "
            ],
            "text/html": [
              "\n",
              "  <div id=\"df-6801bd4d-8b89-4388-89c2-2addeef3a287\">\n",
              "    <div class=\"colab-df-container\">\n",
              "      <div>\n",
              "<style scoped>\n",
              "    .dataframe tbody tr th:only-of-type {\n",
              "        vertical-align: middle;\n",
              "    }\n",
              "\n",
              "    .dataframe tbody tr th {\n",
              "        vertical-align: top;\n",
              "    }\n",
              "\n",
              "    .dataframe thead th {\n",
              "        text-align: right;\n",
              "    }\n",
              "</style>\n",
              "<table border=\"1\" class=\"dataframe\">\n",
              "  <thead>\n",
              "    <tr style=\"text-align: right;\">\n",
              "      <th></th>\n",
              "      <th>carat</th>\n",
              "      <th>cut</th>\n",
              "      <th>color</th>\n",
              "      <th>clarity</th>\n",
              "      <th>depth</th>\n",
              "      <th>table</th>\n",
              "      <th>price</th>\n",
              "      <th>x</th>\n",
              "      <th>y</th>\n",
              "      <th>z</th>\n",
              "      <th>size_volume</th>\n",
              "    </tr>\n",
              "  </thead>\n",
              "  <tbody>\n",
              "    <tr>\n",
              "      <th>223</th>\n",
              "      <td>0.750000</td>\n",
              "      <td>Very Good</td>\n",
              "      <td>D</td>\n",
              "      <td>SI2</td>\n",
              "      <td>63.09375</td>\n",
              "      <td>58.0</td>\n",
              "      <td>2782</td>\n",
              "      <td>5.781250</td>\n",
              "      <td>5.730469</td>\n",
              "      <td>3.630859</td>\n",
              "      <td>120.287730</td>\n",
              "    </tr>\n",
              "    <tr>\n",
              "      <th>13618</th>\n",
              "      <td>1.209961</td>\n",
              "      <td>Premium</td>\n",
              "      <td>J</td>\n",
              "      <td>VVS2</td>\n",
              "      <td>60.81250</td>\n",
              "      <td>60.0</td>\n",
              "      <td>5572</td>\n",
              "      <td>6.859375</td>\n",
              "      <td>6.878906</td>\n",
              "      <td>4.179688</td>\n",
              "      <td>197.218544</td>\n",
              "    </tr>\n",
              "    <tr>\n",
              "      <th>4087</th>\n",
              "      <td>0.899902</td>\n",
              "      <td>Very Good</td>\n",
              "      <td>D</td>\n",
              "      <td>SI2</td>\n",
              "      <td>60.31250</td>\n",
              "      <td>63.0</td>\n",
              "      <td>3534</td>\n",
              "      <td>6.121094</td>\n",
              "      <td>6.218750</td>\n",
              "      <td>3.720703</td>\n",
              "      <td>141.630617</td>\n",
              "    </tr>\n",
              "  </tbody>\n",
              "</table>\n",
              "</div>\n",
              "      <button class=\"colab-df-convert\" onclick=\"convertToInteractive('df-6801bd4d-8b89-4388-89c2-2addeef3a287')\"\n",
              "              title=\"Convert this dataframe to an interactive table.\"\n",
              "              style=\"display:none;\">\n",
              "        \n",
              "  <svg xmlns=\"http://www.w3.org/2000/svg\" height=\"24px\"viewBox=\"0 0 24 24\"\n",
              "       width=\"24px\">\n",
              "    <path d=\"M0 0h24v24H0V0z\" fill=\"none\"/>\n",
              "    <path d=\"M18.56 5.44l.94 2.06.94-2.06 2.06-.94-2.06-.94-.94-2.06-.94 2.06-2.06.94zm-11 1L8.5 8.5l.94-2.06 2.06-.94-2.06-.94L8.5 2.5l-.94 2.06-2.06.94zm10 10l.94 2.06.94-2.06 2.06-.94-2.06-.94-.94-2.06-.94 2.06-2.06.94z\"/><path d=\"M17.41 7.96l-1.37-1.37c-.4-.4-.92-.59-1.43-.59-.52 0-1.04.2-1.43.59L10.3 9.45l-7.72 7.72c-.78.78-.78 2.05 0 2.83L4 21.41c.39.39.9.59 1.41.59.51 0 1.02-.2 1.41-.59l7.78-7.78 2.81-2.81c.8-.78.8-2.07 0-2.86zM5.41 20L4 18.59l7.72-7.72 1.47 1.35L5.41 20z\"/>\n",
              "  </svg>\n",
              "      </button>\n",
              "      \n",
              "  <style>\n",
              "    .colab-df-container {\n",
              "      display:flex;\n",
              "      flex-wrap:wrap;\n",
              "      gap: 12px;\n",
              "    }\n",
              "\n",
              "    .colab-df-convert {\n",
              "      background-color: #E8F0FE;\n",
              "      border: none;\n",
              "      border-radius: 50%;\n",
              "      cursor: pointer;\n",
              "      display: none;\n",
              "      fill: #1967D2;\n",
              "      height: 32px;\n",
              "      padding: 0 0 0 0;\n",
              "      width: 32px;\n",
              "    }\n",
              "\n",
              "    .colab-df-convert:hover {\n",
              "      background-color: #E2EBFA;\n",
              "      box-shadow: 0px 1px 2px rgba(60, 64, 67, 0.3), 0px 1px 3px 1px rgba(60, 64, 67, 0.15);\n",
              "      fill: #174EA6;\n",
              "    }\n",
              "\n",
              "    [theme=dark] .colab-df-convert {\n",
              "      background-color: #3B4455;\n",
              "      fill: #D2E3FC;\n",
              "    }\n",
              "\n",
              "    [theme=dark] .colab-df-convert:hover {\n",
              "      background-color: #434B5C;\n",
              "      box-shadow: 0px 1px 3px 1px rgba(0, 0, 0, 0.15);\n",
              "      filter: drop-shadow(0px 1px 2px rgba(0, 0, 0, 0.3));\n",
              "      fill: #FFFFFF;\n",
              "    }\n",
              "  </style>\n",
              "\n",
              "      <script>\n",
              "        const buttonEl =\n",
              "          document.querySelector('#df-6801bd4d-8b89-4388-89c2-2addeef3a287 button.colab-df-convert');\n",
              "        buttonEl.style.display =\n",
              "          google.colab.kernel.accessAllowed ? 'block' : 'none';\n",
              "\n",
              "        async function convertToInteractive(key) {\n",
              "          const element = document.querySelector('#df-6801bd4d-8b89-4388-89c2-2addeef3a287');\n",
              "          const dataTable =\n",
              "            await google.colab.kernel.invokeFunction('convertToInteractive',\n",
              "                                                     [key], {});\n",
              "          if (!dataTable) return;\n",
              "\n",
              "          const docLinkHtml = 'Like what you see? Visit the ' +\n",
              "            '<a target=\"_blank\" href=https://colab.research.google.com/notebooks/data_table.ipynb>data table notebook</a>'\n",
              "            + ' to learn more about interactive tables.';\n",
              "          element.innerHTML = '';\n",
              "          dataTable['output_type'] = 'display_data';\n",
              "          await google.colab.output.renderOutput(dataTable, element);\n",
              "          const docLink = document.createElement('div');\n",
              "          docLink.innerHTML = docLinkHtml;\n",
              "          element.appendChild(docLink);\n",
              "        }\n",
              "      </script>\n",
              "    </div>\n",
              "  </div>\n",
              "  "
            ]
          },
          "metadata": {},
          "execution_count": 54
        }
      ]
    },
    {
      "cell_type": "code",
      "source": [
        "df_3_cat = df_3.select_dtypes(include='object')"
      ],
      "metadata": {
        "id": "ouh_q0LJUh_b"
      },
      "execution_count": 55,
      "outputs": []
    },
    {
      "cell_type": "code",
      "source": [
        "df_3 = pd.concat([pd.get_dummies(df_3_cat), df_3.select_dtypes(include='number')], axis=1)\\\n",
        ".drop(['depth', 'table', 'size_volume'], axis=1)"
      ],
      "metadata": {
        "id": "8a7dASDoUrR4"
      },
      "execution_count": 56,
      "outputs": []
    },
    {
      "cell_type": "code",
      "source": [
        "df_3 = pd.concat([df_3[[column for column in df_3.columns if column!='price']], df_3['price']], axis=1) "
      ],
      "metadata": {
        "id": "AQJ7IE4HTWD0"
      },
      "execution_count": 62,
      "outputs": []
    },
    {
      "cell_type": "code",
      "source": [
        "#Pre-modeling\n",
        "x = df_3.iloc[:,:-1] \n",
        "y = df_3.iloc[:,-1]\n",
        "x_train, x_test, y_train, y_test = train_test_split(x, y, test_size=0.20, random_state=42)\n",
        "\n",
        "scaler = RobustScaler()\n",
        "x_train = scaler.fit_transform(x_train)\n",
        "x_train = pd.DataFrame(x_train)\n",
        "\n",
        "scaler = RobustScaler()\n",
        "x_test = scaler.fit_transform(x_test)\n",
        "x_test = pd.DataFrame(x_test) "
      ],
      "metadata": {
        "id": "BiDDcmhKUlAV"
      },
      "execution_count": 82,
      "outputs": []
    },
    {
      "cell_type": "code",
      "source": [
        "lin_mod = LinearRegression()\n",
        "lin_mod.fit(x_train, y_train)\n",
        "preds = lin_mod.predict(x_test)"
      ],
      "metadata": {
        "id": "DSk6F0NoUrSd"
      },
      "execution_count": 65,
      "outputs": []
    },
    {
      "cell_type": "code",
      "source": [
        "rmse = np.sqrt(mean_squared_error(y_test, preds))\n",
        "rmse "
      ],
      "metadata": {
        "colab": {
          "base_uri": "https://localhost:8080/"
        },
        "id": "m5Qa6UbVU0MX",
        "outputId": "4563f680-bdc3-45fb-fe66-ceff2e1e17bd"
      },
      "execution_count": 66,
      "outputs": [
        {
          "output_type": "execute_result",
          "data": {
            "text/plain": [
              "1098.6114462637152"
            ]
          },
          "metadata": {},
          "execution_count": 66
        }
      ]
    },
    {
      "cell_type": "code",
      "source": [
        "lin_mod.score(x_train, y_train)"
      ],
      "metadata": {
        "colab": {
          "base_uri": "https://localhost:8080/"
        },
        "id": "vmSeY42PU3kk",
        "outputId": "c978a4fa-b703-41a6-8a78-ccfe89378526"
      },
      "execution_count": 67,
      "outputs": [
        {
          "output_type": "execute_result",
          "data": {
            "text/plain": [
              "0.9243492787684595"
            ]
          },
          "metadata": {},
          "execution_count": 67
        }
      ]
    },
    {
      "cell_type": "code",
      "source": [
        "r2_score(y_test, preds)"
      ],
      "metadata": {
        "colab": {
          "base_uri": "https://localhost:8080/"
        },
        "id": "04Hia7IuU-82",
        "outputId": "a409e22d-6d43-40c2-b5a5-5dfee67914ed"
      },
      "execution_count": 68,
      "outputs": [
        {
          "output_type": "execute_result",
          "data": {
            "text/plain": [
              "0.9240761989079259"
            ]
          },
          "metadata": {},
          "execution_count": 68
        }
      ]
    },
    {
      "cell_type": "code",
      "source": [
        "mean_absolute_error(y_test, preds)"
      ],
      "metadata": {
        "colab": {
          "base_uri": "https://localhost:8080/"
        },
        "id": "oJHCk1SUVCtL",
        "outputId": "f57f3fa1-148d-448b-dbbf-2385f57af53d"
      },
      "execution_count": 70,
      "outputs": [
        {
          "output_type": "execute_result",
          "data": {
            "text/plain": [
              "726.2182285873192"
            ]
          },
          "metadata": {},
          "execution_count": 70
        }
      ]
    },
    {
      "cell_type": "code",
      "source": [
        "normalized_rmse = rmse/(df_3['price'].max()-df_3['price'].min()) \n",
        "normalized_rmse  #We get the best result when using categorical features as well"
      ],
      "metadata": {
        "colab": {
          "base_uri": "https://localhost:8080/"
        },
        "id": "xkPy4dKqVhYJ",
        "outputId": "0f0ce561-5c3b-41d0-b622-643dac1eedbd"
      },
      "execution_count": 72,
      "outputs": [
        {
          "output_type": "execute_result",
          "data": {
            "text/plain": [
              "0.05939403396570877"
            ]
          },
          "metadata": {},
          "execution_count": 72
        }
      ]
    },
    {
      "cell_type": "markdown",
      "source": [
        "### 2. Random Forest Regressor (CV and H-Tuning)"
      ],
      "metadata": {
        "id": "LrUihvFpeHfp"
      }
    },
    {
      "cell_type": "code",
      "source": [
        "rfc_ = RandomForestRegressor(random_state=42)"
      ],
      "metadata": {
        "id": "r0klwZWdeGfc"
      },
      "execution_count": 85,
      "outputs": []
    },
    {
      "cell_type": "code",
      "source": [
        "param_grid = { \n",
        "    'n_estimators': [300, 500],\n",
        "    'max_features': ['auto', 'sqrt', 'log2'],\n",
        "    'max_depth' : [12], \n",
        "    \"min_samples_split\" : [2,4,8],\n",
        "    \"bootstrap\": [True, False]\n",
        "} "
      ],
      "metadata": {
        "id": "sbyjA09BenAK"
      },
      "execution_count": 86,
      "outputs": []
    },
    {
      "cell_type": "code",
      "source": [
        "CV_rfc = GridSearchCV(estimator=rfc_, param_grid=param_grid, cv=5)\n",
        "CV_rfc.fit(x_train, y_train) "
      ],
      "metadata": {
        "id": "bdD5LoZatdvV"
      },
      "execution_count": null,
      "outputs": []
    },
    {
      "cell_type": "code",
      "source": [
        "CV_rfc.best_params_"
      ],
      "metadata": {
        "id": "rfTYnMwnfGwM"
      },
      "execution_count": null,
      "outputs": []
    },
    {
      "cell_type": "code",
      "source": [
        "rfc1=RandomForestClassifier(n_estimators=,\n",
        "    max_features= ,\n",
        "    max_depth=,\n",
        "    min_samples_split=,\n",
        "    bootstrap=)\n",
        "\n",
        "rfc1.fit(x_train, y_train)"
      ],
      "metadata": {
        "id": "BIBmMNtvfOD5"
      },
      "execution_count": null,
      "outputs": []
    },
    {
      "cell_type": "code",
      "source": [
        "rf_pred = rfc1.predict(x_test)"
      ],
      "metadata": {
        "id": "EFYI8gY2f9RD"
      },
      "execution_count": null,
      "outputs": []
    },
    {
      "cell_type": "code",
      "source": [
        "plot_rf_feat_importance(rfc1, x)"
      ],
      "metadata": {
        "id": "7ozhUPwbgYI3"
      },
      "execution_count": null,
      "outputs": []
    },
    {
      "cell_type": "code",
      "source": [
        "rmse = np.sqrt(mean_squared_error(y_test, rf_pred)\n",
        "print(f'''Root Mean Squared Error: {rmse}''')\n",
        "print(f'''R^squared on train: {rfc1.score(x_train, y_train)}''')\n",
        "print(f'''R^squared on test: {r2_score(y_test, rf_pred)}''')\n",
        "print(f'''Mean Absolute Error: {mean_absolute_error(y_test, rf_pred)}''')\n",
        "print(f'''Normalized Root Mean Squared Error: {rmse/(df_3['price'].max()-df_3['price'].min())} "
      ],
      "metadata": {
        "id": "oXFNe8lbjEmx"
      },
      "execution_count": null,
      "outputs": []
    }
  ]
}